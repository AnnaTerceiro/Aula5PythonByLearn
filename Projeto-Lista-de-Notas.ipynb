{
 "cells": [
  {
   "cell_type": "markdown",
   "id": "8f6782ed",
   "metadata": {},
   "source": [
    "# Desafio 5.1\n",
    "\n",
    "Criar uma lista de notas e adicionar entre 5 e 10 notas a seu critério.\n",
    "Por fim, printar todas as notas desta lista através de um laço for"
   ]
  },
  {
   "cell_type": "code",
   "execution_count": null,
   "id": "94879788",
   "metadata": {},
   "outputs": [],
   "source": [
    "notas = []\n",
    "notas.append(1)\n",
    "notas.append(2)\n",
    "notas.append(3)\n",
    "notas.append(4)\n",
    "notas.append(5)\n",
    "\n",
    "for nota in notas:\n",
    "    print(nota)"
   ]
  }
 ],
 "metadata": {
  "kernelspec": {
   "display_name": "Python 3",
   "language": "python",
   "name": "python3"
  },
  "language_info": {
   "codemirror_mode": {
    "name": "ipython",
    "version": 3
   },
   "file_extension": ".py",
   "mimetype": "text/x-python",
   "name": "python",
   "nbconvert_exporter": "python",
   "pygments_lexer": "ipython3",
   "version": "3.8.8"
  }
 },
 "nbformat": 4,
 "nbformat_minor": 5
}
